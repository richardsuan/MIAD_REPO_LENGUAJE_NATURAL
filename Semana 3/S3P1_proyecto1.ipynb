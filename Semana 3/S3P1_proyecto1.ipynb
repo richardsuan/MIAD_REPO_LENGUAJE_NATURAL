{
 "cells": [
  {
   "cell_type": "markdown",
   "metadata": {},
   "source": [
    "![image info](https://raw.githubusercontent.com/davidzarruk/MIAD_ML_NLP_2023/main/images/banner_1.png)"
   ]
  },
  {
   "cell_type": "markdown",
   "metadata": {},
   "source": [
    "# Proyecto 1 - Predicción de precios de vehículos usados\n",
    "\n",
    "En este proyecto podrán poner en práctica sus conocimientos sobre modelos predictivos basados en árboles y ensambles, y sobre la disponibilización de modelos. Para su desasrrollo tengan en cuenta las instrucciones dadas en la \"Guía del proyecto 1: Predicción de precios de vehículos usados\".\n",
    "\n",
    "**Entrega**: La entrega del proyecto deberán realizarla durante la semana 4. Sin embargo, es importante que avancen en la semana 3 en el modelado del problema y en parte del informe, tal y como se les indicó en la guía.\n",
    "\n",
    "Para hacer la entrega, deberán adjuntar el informe autocontenido en PDF a la actividad de entrega del proyecto que encontrarán en la semana 4, y subir el archivo de predicciones a la [competencia de Kaggle](https://www.kaggle.com/t/b8be43cf89c540bfaf3831f2c8506614)."
   ]
  },
  {
   "cell_type": "markdown",
   "metadata": {},
   "source": [
    "## Datos para la predicción de precios de vehículos usados\n",
    "\n",
    "En este proyecto se usará el conjunto de datos de Car Listings de Kaggle, donde cada observación representa el precio de un automóvil teniendo en cuenta distintas variables como: año, marca, modelo, entre otras. El objetivo es predecir el precio del automóvil. Para más detalles puede visitar el siguiente enlace: [datos](https://www.kaggle.com/jpayne/852k-used-car-listings)."
   ]
  },
  {
   "cell_type": "markdown",
   "metadata": {},
   "source": [
    "## Ejemplo predicción conjunto de test para envío a Kaggle\n",
    "\n",
    "En esta sección encontrarán el formato en el que deben guardar los resultados de la predicción para que puedan subirlos a la competencia en Kaggle."
   ]
  },
  {
   "cell_type": "code",
   "execution_count": 1,
   "metadata": {
    "ExecuteTime": {
     "end_time": "2024-04-23T17:44:29.884837500Z",
     "start_time": "2024-04-23T17:44:29.859377Z"
    }
   },
   "outputs": [],
   "source": [
    "import warnings\n",
    "warnings.filterwarnings('ignore')"
   ]
  },
  {
   "cell_type": "code",
   "execution_count": 2,
   "metadata": {
    "ExecuteTime": {
     "end_time": "2024-04-23T17:44:30.763114700Z",
     "start_time": "2024-04-23T17:44:29.880557Z"
    }
   },
   "outputs": [],
   "source": [
    "# Importación librerías\n",
    "import pandas as pd\n",
    "import numpy as np\n",
    "import seaborn as sns\n",
    "import matplotlib.pyplot as plt\n",
    "import missingno as msno\n",
    "from sklearn.model_selection import cross_val_score\n",
    "from sklearn.ensemble import RandomForestRegressor\n",
    "from sklearn.model_selection import train_test_split\n",
    "from sklearn.model_selection import GridSearchCV\n",
    "from sklearn.metrics import mean_squared_error, mean_absolute_error\n",
    "import xgboost as xgb\n",
    "from sklearn.ensemble import BaggingRegressor\n",
    "from sklearn.tree import DecisionTreeRegressor\n",
    "from sklearn.ensemble import RandomForestRegressor, ExtraTreesRegressor, GradientBoostingRegressor\n",
    "from lightgbm import LGBMRegressor\n",
    "from sklearn.ensemble import VotingRegressor\n",
    "import joblib\n",
    "from sklearn.ensemble import RandomForestRegressor, ExtraTreesRegressor\n",
    "from lightgbm import LGBMRegressor\n",
    "from sklearn.ensemble import VotingRegressor"
   ]
  },
  {
   "cell_type": "code",
   "execution_count": 3,
   "metadata": {
    "ExecuteTime": {
     "end_time": "2024-04-23T17:44:32.201549Z",
     "start_time": "2024-04-23T17:44:30.758995Z"
    }
   },
   "outputs": [],
   "source": [
    "# Carga de datos de archivo .csv\n",
    "dataTraining = pd.read_csv('https://raw.githubusercontent.com/davidzarruk/MIAD_ML_NLP_2023/main/datasets/dataTrain_carListings.zip')\n",
    "dataTesting = pd.read_csv('https://raw.githubusercontent.com/davidzarruk/MIAD_ML_NLP_2023/main/datasets/dataTest_carListings.zip', index_col=0)"
   ]
  },
  {
   "cell_type": "code",
   "execution_count": 4,
   "metadata": {
    "ExecuteTime": {
     "end_time": "2024-04-23T17:44:32.282838600Z",
     "start_time": "2024-04-23T17:44:32.194889200Z"
    }
   },
   "outputs": [
    {
     "data": {
      "text/html": [
       "<div>\n",
       "<style scoped>\n",
       "    .dataframe tbody tr th:only-of-type {\n",
       "        vertical-align: middle;\n",
       "    }\n",
       "\n",
       "    .dataframe tbody tr th {\n",
       "        vertical-align: top;\n",
       "    }\n",
       "\n",
       "    .dataframe thead th {\n",
       "        text-align: right;\n",
       "    }\n",
       "</style>\n",
       "<table border=\"1\" class=\"dataframe\">\n",
       "  <thead>\n",
       "    <tr style=\"text-align: right;\">\n",
       "      <th></th>\n",
       "      <th>Price</th>\n",
       "      <th>Year</th>\n",
       "      <th>Mileage</th>\n",
       "      <th>State</th>\n",
       "      <th>Make</th>\n",
       "      <th>Model</th>\n",
       "    </tr>\n",
       "  </thead>\n",
       "  <tbody>\n",
       "    <tr>\n",
       "      <th>0</th>\n",
       "      <td>34995</td>\n",
       "      <td>2017</td>\n",
       "      <td>9913</td>\n",
       "      <td>FL</td>\n",
       "      <td>Jeep</td>\n",
       "      <td>Wrangler</td>\n",
       "    </tr>\n",
       "    <tr>\n",
       "      <th>1</th>\n",
       "      <td>37895</td>\n",
       "      <td>2015</td>\n",
       "      <td>20578</td>\n",
       "      <td>OH</td>\n",
       "      <td>Chevrolet</td>\n",
       "      <td>Tahoe4WD</td>\n",
       "    </tr>\n",
       "    <tr>\n",
       "      <th>2</th>\n",
       "      <td>18430</td>\n",
       "      <td>2012</td>\n",
       "      <td>83716</td>\n",
       "      <td>TX</td>\n",
       "      <td>BMW</td>\n",
       "      <td>X5AWD</td>\n",
       "    </tr>\n",
       "    <tr>\n",
       "      <th>3</th>\n",
       "      <td>24681</td>\n",
       "      <td>2014</td>\n",
       "      <td>28729</td>\n",
       "      <td>OH</td>\n",
       "      <td>Cadillac</td>\n",
       "      <td>SRXLuxury</td>\n",
       "    </tr>\n",
       "    <tr>\n",
       "      <th>4</th>\n",
       "      <td>26998</td>\n",
       "      <td>2013</td>\n",
       "      <td>64032</td>\n",
       "      <td>CO</td>\n",
       "      <td>Jeep</td>\n",
       "      <td>Wrangler</td>\n",
       "    </tr>\n",
       "  </tbody>\n",
       "</table>\n",
       "</div>"
      ],
      "text/plain": [
       "   Price  Year  Mileage State       Make      Model\n",
       "0  34995  2017     9913    FL       Jeep   Wrangler\n",
       "1  37895  2015    20578    OH  Chevrolet   Tahoe4WD\n",
       "2  18430  2012    83716    TX        BMW      X5AWD\n",
       "3  24681  2014    28729    OH   Cadillac  SRXLuxury\n",
       "4  26998  2013    64032    CO       Jeep   Wrangler"
      ]
     },
     "execution_count": 4,
     "metadata": {},
     "output_type": "execute_result"
    }
   ],
   "source": [
    "# Visualización datos de entrenamiento\n",
    "dataTraining.head()"
   ]
  },
  {
   "cell_type": "code",
   "execution_count": 5,
   "metadata": {
    "ExecuteTime": {
     "end_time": "2024-04-23T17:44:32.307850100Z",
     "start_time": "2024-04-23T17:44:32.241550300Z"
    }
   },
   "outputs": [
    {
     "data": {
      "text/html": [
       "<div>\n",
       "<style scoped>\n",
       "    .dataframe tbody tr th:only-of-type {\n",
       "        vertical-align: middle;\n",
       "    }\n",
       "\n",
       "    .dataframe tbody tr th {\n",
       "        vertical-align: top;\n",
       "    }\n",
       "\n",
       "    .dataframe thead th {\n",
       "        text-align: right;\n",
       "    }\n",
       "</style>\n",
       "<table border=\"1\" class=\"dataframe\">\n",
       "  <thead>\n",
       "    <tr style=\"text-align: right;\">\n",
       "      <th></th>\n",
       "      <th>Year</th>\n",
       "      <th>Mileage</th>\n",
       "      <th>State</th>\n",
       "      <th>Make</th>\n",
       "      <th>Model</th>\n",
       "    </tr>\n",
       "    <tr>\n",
       "      <th>ID</th>\n",
       "      <th></th>\n",
       "      <th></th>\n",
       "      <th></th>\n",
       "      <th></th>\n",
       "      <th></th>\n",
       "    </tr>\n",
       "  </thead>\n",
       "  <tbody>\n",
       "    <tr>\n",
       "      <th>0</th>\n",
       "      <td>2014</td>\n",
       "      <td>31909</td>\n",
       "      <td>MD</td>\n",
       "      <td>Nissan</td>\n",
       "      <td>MuranoAWD</td>\n",
       "    </tr>\n",
       "    <tr>\n",
       "      <th>1</th>\n",
       "      <td>2017</td>\n",
       "      <td>5362</td>\n",
       "      <td>FL</td>\n",
       "      <td>Jeep</td>\n",
       "      <td>Wrangler</td>\n",
       "    </tr>\n",
       "    <tr>\n",
       "      <th>2</th>\n",
       "      <td>2014</td>\n",
       "      <td>50300</td>\n",
       "      <td>OH</td>\n",
       "      <td>Ford</td>\n",
       "      <td>FlexLimited</td>\n",
       "    </tr>\n",
       "    <tr>\n",
       "      <th>3</th>\n",
       "      <td>2004</td>\n",
       "      <td>132160</td>\n",
       "      <td>WA</td>\n",
       "      <td>BMW</td>\n",
       "      <td>5</td>\n",
       "    </tr>\n",
       "    <tr>\n",
       "      <th>4</th>\n",
       "      <td>2015</td>\n",
       "      <td>25226</td>\n",
       "      <td>MA</td>\n",
       "      <td>Jeep</td>\n",
       "      <td>Grand</td>\n",
       "    </tr>\n",
       "  </tbody>\n",
       "</table>\n",
       "</div>"
      ],
      "text/plain": [
       "    Year  Mileage State    Make        Model\n",
       "ID                                          \n",
       "0   2014    31909    MD  Nissan    MuranoAWD\n",
       "1   2017     5362    FL    Jeep     Wrangler\n",
       "2   2014    50300    OH    Ford  FlexLimited\n",
       "3   2004   132160    WA     BMW            5\n",
       "4   2015    25226    MA    Jeep        Grand"
      ]
     },
     "execution_count": 5,
     "metadata": {},
     "output_type": "execute_result"
    }
   ],
   "source": [
    "# Visualización datos de test\n",
    "dataTesting.head()"
   ]
  },
  {
   "cell_type": "code",
   "execution_count": 6,
   "metadata": {
    "ExecuteTime": {
     "end_time": "2024-04-23T17:44:32.926202300Z",
     "start_time": "2024-04-23T17:44:32.250108200Z"
    }
   },
   "outputs": [
    {
     "data": {
      "text/html": [
       "<div>\n",
       "<style scoped>\n",
       "    .dataframe tbody tr th:only-of-type {\n",
       "        vertical-align: middle;\n",
       "    }\n",
       "\n",
       "    .dataframe tbody tr th {\n",
       "        vertical-align: top;\n",
       "    }\n",
       "\n",
       "    .dataframe thead th {\n",
       "        text-align: right;\n",
       "    }\n",
       "</style>\n",
       "<table border=\"1\" class=\"dataframe\">\n",
       "  <thead>\n",
       "    <tr style=\"text-align: right;\">\n",
       "      <th></th>\n",
       "      <th>Price</th>\n",
       "    </tr>\n",
       "    <tr>\n",
       "      <th>ID</th>\n",
       "      <th></th>\n",
       "    </tr>\n",
       "  </thead>\n",
       "  <tbody>\n",
       "    <tr>\n",
       "      <th>0</th>\n",
       "      <td>33090.508914</td>\n",
       "    </tr>\n",
       "    <tr>\n",
       "      <th>1</th>\n",
       "      <td>76303.572981</td>\n",
       "    </tr>\n",
       "    <tr>\n",
       "      <th>2</th>\n",
       "      <td>59899.545636</td>\n",
       "    </tr>\n",
       "    <tr>\n",
       "      <th>3</th>\n",
       "      <td>49899.386315</td>\n",
       "    </tr>\n",
       "    <tr>\n",
       "      <th>4</th>\n",
       "      <td>16701.398033</td>\n",
       "    </tr>\n",
       "  </tbody>\n",
       "</table>\n",
       "</div>"
      ],
      "text/plain": [
       "           Price\n",
       "ID              \n",
       "0   33090.508914\n",
       "1   76303.572981\n",
       "2   59899.545636\n",
       "3   49899.386315\n",
       "4   16701.398033"
      ]
     },
     "execution_count": 6,
     "metadata": {},
     "output_type": "execute_result"
    }
   ],
   "source": [
    "# Guardar predicciones en formato exigido en la competencia de kaggle\n",
    "# Predicción del conjunto de test - acá se genera un número aleatorio como ejemplo\n",
    "np.random.seed(42)\n",
    "y_pred = pd.DataFrame(np.random.rand(dataTesting.shape[0]) * 75000 + 5000, index=dataTesting.index, columns=['Price'])\n",
    "y_pred.to_csv('test_submission.csv', index_label='ID')\n",
    "y_pred.head()"
   ]
  },
  {
   "cell_type": "code",
   "execution_count": 7,
   "metadata": {
    "ExecuteTime": {
     "end_time": "2024-04-23T17:44:32.991455200Z",
     "start_time": "2024-04-23T17:44:32.731608800Z"
    },
    "collapsed": false,
    "jupyter": {
     "outputs_hidden": false
    }
   },
   "outputs": [
    {
     "data": {
      "text/plain": [
       "array([' FL', ' OH', ' TX', ' CO', ' ME', ' WA', ' CT', ' CA', ' LA',\n",
       "       ' NY', ' PA', ' SC', ' ND', ' NC', ' GA', ' AZ', ' TN', ' KY',\n",
       "       ' NJ', ' UT', ' IA', ' AL', ' NE', ' IL', ' OK', ' MD', ' NV',\n",
       "       ' WV', ' MI', ' VA', ' WI', ' MA', ' OR', ' IN', ' NM', ' MO',\n",
       "       ' HI', ' KS', ' AR', ' MN', ' MS', ' MT', ' AK', ' VT', ' SD',\n",
       "       ' NH', ' DE', ' ID', ' RI', ' WY', ' DC'], dtype=object)"
      ]
     },
     "execution_count": 7,
     "metadata": {},
     "output_type": "execute_result"
    }
   ],
   "source": [
    "dataTraining['State'].unique()"
   ]
  },
  {
   "cell_type": "code",
   "execution_count": 8,
   "metadata": {
    "ExecuteTime": {
     "end_time": "2024-04-23T17:44:33.057190Z",
     "start_time": "2024-04-23T17:44:32.781907400Z"
    },
    "collapsed": false,
    "jupyter": {
     "outputs_hidden": false
    }
   },
   "outputs": [
    {
     "data": {
      "text/plain": [
       "array(['Jeep', 'Chevrolet', 'BMW', 'Cadillac', 'Mercedes-Benz', 'Toyota',\n",
       "       'Buick', 'Dodge', 'Volkswagen', 'GMC', 'Ford', 'Hyundai',\n",
       "       'Mitsubishi', 'Honda', 'Nissan', 'Mazda', 'Volvo', 'Kia', 'Subaru',\n",
       "       'Chrysler', 'INFINITI', 'Land', 'Porsche', 'Lexus', 'MINI',\n",
       "       'Lincoln', 'Audi', 'Ram', 'Mercury', 'Tesla', 'FIAT', 'Acura',\n",
       "       'Scion', 'Pontiac', 'Jaguar', 'Bentley', 'Suzuki', 'Freightliner'],\n",
       "      dtype=object)"
      ]
     },
     "execution_count": 8,
     "metadata": {},
     "output_type": "execute_result"
    }
   ],
   "source": [
    "dataTraining['Make'].unique()"
   ]
  },
  {
   "cell_type": "code",
   "execution_count": 9,
   "metadata": {
    "ExecuteTime": {
     "end_time": "2024-04-23T17:44:33.097704800Z",
     "start_time": "2024-04-23T17:44:32.834760600Z"
    },
    "collapsed": false,
    "jupyter": {
     "outputs_hidden": false
    }
   },
   "outputs": [
    {
     "data": {
      "text/plain": [
       "array(['Wrangler', 'Tahoe4WD', 'X5AWD', 'SRXLuxury', '3', 'C-ClassC300',\n",
       "       'CamryL', 'TacomaPreRunner', 'LaCrosse4dr', 'ChargerSXT',\n",
       "       'CamryLE', 'Jetta', 'AcadiaFWD', 'EscapeSE', 'SonataLimited',\n",
       "       'Santa', 'Outlander', 'CruzeSedan', 'Civic', 'CorollaL', '350Z2dr',\n",
       "       'EdgeSEL', 'F-1502WD', 'FocusSE', 'PatriotSport', 'Accord',\n",
       "       'MustangGT', 'FusionHybrid', 'ColoradoCrew', 'Wrangler4WD',\n",
       "       'CR-VEX-L', 'CTS', 'CherokeeLimited', 'Yukon', 'Elantra', 'New',\n",
       "       'CorollaLE', 'Canyon4WD', 'Golf', 'Sonata4dr', 'Elantra4dr',\n",
       "       'PatriotLatitude', 'Mazda35dr', 'Tacoma2WD', 'Corolla4dr',\n",
       "       'Silverado', 'TerrainFWD', 'EscapeFWD', 'Grand', 'RAV4FWD',\n",
       "       'Liberty4WD', 'FocusTitanium', 'DurangoAWD', 'S60T5', 'CivicLX',\n",
       "       'MuranoAWD', 'ForteEX', 'TraverseAWD', 'CamaroConvertible',\n",
       "       'Sportage2WD', 'Pathfinder4WD', 'Highlander4dr', 'WRXSTI', 'Ram',\n",
       "       'F-150XLT', 'SiennaXLE', 'LaCrosseFWD', 'RogueFWD', 'CamaroCoupe',\n",
       "       'JourneySXT', 'AccordEX-L', 'Escape4WD', 'OptimaEX', 'FusionSE',\n",
       "       '5', 'F-150SuperCrew', '200Limited', 'Malibu', 'CompassSport',\n",
       "       'G37', 'CanyonCrew', 'Malibu1LT', 'MustangPremium', 'MustangBase',\n",
       "       'Sierra', 'FlexLimited', 'Tahoe2WD', 'Transit', 'Outback2.5i',\n",
       "       'TucsonLimited', 'Rover', 'CayenneAWD', 'MalibuLT', 'TucsonFWD',\n",
       "       'F-150FX2', 'Camaro2dr', 'Colorado4WD', 'SonataSE', 'ESES',\n",
       "       'EnclavePremium', 'CR-VEX', 'F-150STX', 'Impreza', 'EquinoxFWD',\n",
       "       'Cooper', 'Super', 'Passat4dr', '911', 'CivicEX', 'CamrySE',\n",
       "       'Highlander4WD', 'Corvette2dr', '200S', 'PilotLX', 'SorentoEX',\n",
       "       'RioLX', 'ExplorerXLT', 'CorvetteCoupe', 'EnclaveLeather',\n",
       "       'Avalanche4WD', 'TacomaBase', 'Versa5dr', 'MKXFWD',\n",
       "       'SL-ClassSL500', 'VeracruzFWD', 'CorollaS', 'PriusTwo', 'CR-V2WD',\n",
       "       'Lucerne4dr', '4Runner4dr', 'PilotTouring', 'CR-VLX',\n",
       "       'CompassLatitude', 'Altima4dr', 'OptimaLX', 'Focus5dr',\n",
       "       'Charger4dr', 'AcadiaAWD', 'JourneyFWD', '7', 'RX', 'MalibuLS',\n",
       "       'LSLS', 'SportageLX', 'Yukon4WD', 'SorentoLX', 'TiguanSEL',\n",
       "       'Camry4dr', 'F-1504WD', 'PriusBase', 'AccordLX', 'Q7quattro',\n",
       "       'ExplorerLimited', '4RunnerSR5', 'OdysseyEX-L', 'C-ClassC',\n",
       "       'CX-9FWD', 'JourneyAWD', 'Sorento2WD', 'F-250Lariat', 'Prius',\n",
       "       'TahoeLT', '25004WD', 'Escalade4dr', 'GTI4dr', '4RunnerRWD',\n",
       "       'FX35AWD', 'XC90T6', 'Taurus4dr', 'AvalonXLE', '300300S', 'G35',\n",
       "       'F-150Platinum', 'TerrainAWD', 'GXGX', 'MKXAWD', 'Town',\n",
       "       'CamryXLE', 'VeracruzAWD', 'FusionS', 'Challenger2dr', 'Tundra',\n",
       "       'Navigator4WD', 'Legacy3.6R', 'GS', 'E-ClassE350', 'Suburban2WD',\n",
       "       'A44dr', 'RegalTurbo', 'Outback3.6R', '4Runner4WD', 'Legacy2.5i',\n",
       "       '1', 'Yukon2WD', 'Explorer', 'PilotEX-L', '200LX', 'M-ClassML350',\n",
       "       'RAV4XLE', 'WranglerSport', 'Model', 'FJ', 'Titan', 'Titan4WD',\n",
       "       'FlexSEL', 'OdysseyTouring', 'SorentoSX', 'RAV4Base', 'OdysseyEX',\n",
       "       'Explorer4WD', 'Mustang2dr', 'EdgeLimited', 'FusionSEL',\n",
       "       'Yukon4dr', 'Touareg4dr', 'Matrix5dr', 'CTCT', 'CherokeeSport',\n",
       "       '6', 'Maxima4dr', 'Frontier4WD', 'PriusThree', 'F-350XL', '500Pop',\n",
       "       'RDXAWD', 'Tacoma4WD', 'Optima4dr', 'Q5quattro', 'X3xDrive28i',\n",
       "       'RDXFWD', 'X5xDrive35i', 'Malibu4dr', 'ExpeditionXLT', 'Ranger2WD',\n",
       "       'Patriot4WD', 'Quest4dr', 'TaurusSE', 'PathfinderS', 'Murano2WD',\n",
       "       'LS', 'SiennaLimited', 'ES', 'SiennaLE', 'F-150Lariat', 'Titan2WD',\n",
       "       'Durango2WD', 'Tahoe4dr', 'Focus4dr', 'YarisBase', 'TaurusLimited',\n",
       "       'RAV44WD', 'C-Class4dr', 'Soul+', 'TundraBase', 'Expedition',\n",
       "       'ImpalaLT', 'SedonaLX', 'Sequoia4WD', 'ElantraLimited', '15002WD',\n",
       "       'Suburban4WD', 'FiestaSE', '15004WD', 'TundraSR5', 'Camry',\n",
       "       'RAV4Limited', 'RangerSuperCab', 'MDXAWD', 'RAV4LE',\n",
       "       'ChallengerR/T', 'FlexSE', 'ForteLX', 'TraverseFWD',\n",
       "       'LibertySport', 'ISIS', 'Impala4dr', 'Tundra4WD', 'F-250XLT',\n",
       "       'RXRX', 'Armada2WD', 'Frontier', 'WranglerRubicon', 'EquinoxAWD',\n",
       "       'PilotEX', 'TiguanS', 'EscaladeAWD', 'DTS4dr', 'Pilot2WD',\n",
       "       'Express', 'PacificaLimited', 'CanyonExtended', 'MX5', 'EscapeS',\n",
       "       'IS', 'C-ClassC350', 'Compass4WD', 'SportageEX', 'Legacy',\n",
       "       'E-ClassE', 'Dakota4WD', '300300C', 'Forte', 'SportageAWD',\n",
       "       'TaurusSEL', 'Xterra4WD', 'GSGS', 'Explorer4dr', 'F-150XL',\n",
       "       'SportageSX', 'xB5dr', 'TundraLimited', 'CruzeLT', 'Wrangler2dr',\n",
       "       'HighlanderFWD', 'Sprinter', 'Highlander', 'Prius5dr', 'CX-9Grand',\n",
       "       'CTS4dr', 'Econoline', 'AccordEX', 'RAV4Sport', '35004WD',\n",
       "       'ChargerSE', 'OdysseyLX', 'TucsonAWD', 'CX-7FWD', 'AccordLX-S',\n",
       "       'Navigator4dr', 'EscapeXLT', 'TiguanSE', 'Cayman2dr', 'TaurusSHO',\n",
       "       'F-150FX4', 'Ranger4WD', 'OptimaSX', 'SequoiaSR5', 'G64dr',\n",
       "       'HighlanderLimited', 'ExplorerFWD', 'F-350King', 'PriusFive',\n",
       "       'Yaris4dr', 'PatriotLimited', 'Lancer4dr', 'HighlanderSE',\n",
       "       'CompassLimited', 'S2000Manual', 'F-250King', 'Forester2.5X',\n",
       "       'Fusion4dr', 'Frontier2WD', 'FocusST', 'Pathfinder2WD',\n",
       "       'Sentra4dr', 'XF4dr', 'F-250XL', 'PacificaTouring',\n",
       "       'MustangDeluxe', 'Caliber4dr', 'GTI2dr', 'Mazda34dr', 'FocusS',\n",
       "       'Sienna5dr', 'CR-V4WD', 'CX-9Touring', 'Mazda64dr', 'Forester4dr',\n",
       "       '1500Tradesman', 'MDX4WD', 'Escalade', 'TL4dr', 'CX-9AWD',\n",
       "       'Canyon2WD', 'A64dr', 'A8', 'Armada4WD', 'Impreza2.0i', 'GX',\n",
       "       'QX564WD', 'CC4dr', 'MKZ4dr', 'Yaris', 'FitSport', 'Regal4dr',\n",
       "       'Tundra2WD', 'X3AWD', 'SonicSedan', 'Cobalt4dr', 'RidgelineRTL',\n",
       "       'CivicSi', 'AvalonLimited', 'XC90FWD', 'Outlander2WD', 'RAV44dr',\n",
       "       'ColoradoExtended', 'ExpeditionLimited', '3004dr', '200Touring',\n",
       "       'SC', 'X1xDrive28i', 'SonicHatch', 'GLI4dr', 'PilotSE', 'Savana',\n",
       "       'RegalPremium', 'CR-VSE', 'RegalGS', 'XC90AWD', 'EdgeSport',\n",
       "       'PriusFour', 'SiennaSE', '1500Laramie', '300Base', 'Pilot4WD',\n",
       "       'A34dr', 'HighlanderBase', 'Expedition4WD', 'STS4dr', 'SoulBase',\n",
       "       'Xterra2WD', 'CT', 'tC2dr', 'Tiguan2WD', 'CR-ZEX', 'MustangShelby',\n",
       "       'C702dr', 'WranglerX', 'WranglerSahara', 'DurangoSXT',\n",
       "       'Sequoia4dr', 'Outlander4WD', 'Expedition2WD', 'Navigator',\n",
       "       '9112dr', 'Vibe4dr', 'F-150King', '300Limited', 'XC60T6',\n",
       "       'CivicEX-L', 'Avalanche2WD', 'F-350XLT', 'ExplorerBase', 'MuranoS',\n",
       "       'LXLX', 'EdgeSE', 'ImpalaLS', 'Land', 'E-ClassE320', 'Milan4dr',\n",
       "       'Boxster2dr', 'RAV4', 'Eos2dr', 'SedonaEX', 'xD5dr', 'Colorado2WD',\n",
       "       'Monte', 'Escape4dr', 'LX', 'FiestaS', 'F-350Lariat', 'Galant4dr',\n",
       "       'TT2dr', 'Xterra4dr', 'SequoiaLimited', '4RunnerLimited',\n",
       "       'Genesis', 'Suburban4dr', 'EnclaveConvenience', 'LaCrosseAWD',\n",
       "       'Versa4dr', 'Cobalt2dr', 'XC60FWD', 'F-150Limited', 'Dakota2WD',\n",
       "       'S44dr', '4Runner2WD', 'Sedona4dr', 'RidgelineSport',\n",
       "       'TSXAutomatic', 'ImprezaSport', 'SLK-ClassSLK350', 'Accent4dr',\n",
       "       'CorvetteConvertible', 'Avalon4dr', 'Passat', '25002WD',\n",
       "       'ExplorerEddie', 'LibertyLimited', 'CTS-V', '4RunnerTrail',\n",
       "       'Eclipse3dr', 'Azera4dr', 'TahoeLS', 'Continental', 'XJ4dr',\n",
       "       'ForteSX', 'SequoiaPlatinum', 'FocusSEL', 'Durango4dr',\n",
       "       'CamryBase', 'XC704dr', 'S804dr', 'Element4WD', 'YarisLE',\n",
       "       'WRXBase', 'TLAutomatic', 'AvalonTouring', 'XK2dr', 'PT',\n",
       "       'PathfinderSE', '300Touring', 'Navigator2WD', 'XC60AWD',\n",
       "       'EscapeLimited', 'WRXLimited', 'AccordSE', 'QX562WD',\n",
       "       'Escalade2WD', 'EscapeLImited', 'PriusOne', 'Element2WD',\n",
       "       'Excursion137\"', 'WRXPremium', 'RX-84dr'], dtype=object)"
      ]
     },
     "execution_count": 9,
     "metadata": {},
     "output_type": "execute_result"
    }
   ],
   "source": [
    "dataTraining['Model'].unique()"
   ]
  },
  {
   "cell_type": "code",
   "execution_count": 10,
   "metadata": {
    "ExecuteTime": {
     "end_time": "2024-04-23T17:44:33.558763300Z",
     "start_time": "2024-04-23T17:44:32.905772800Z"
    },
    "collapsed": false,
    "jupyter": {
     "outputs_hidden": false
    }
   },
   "outputs": [],
   "source": [
    "model_mapping = {model: idx for idx, model in enumerate(dataTraining['Model'].unique())}\n",
    "state_mapping = {state: idx for idx, state in enumerate(dataTraining['State'].unique())}\n",
    "make_mapping = {make: idx for idx, make in enumerate(dataTraining['Make'].unique())}\n",
    "\n",
    "dataTraining['Model'] = pd.factorize(dataTraining.Model)[0]\n",
    "dataTraining['State'] = pd.factorize(dataTraining.State)[0]\n",
    "dataTraining['Make'] = pd.factorize(dataTraining.Make)[0]\n",
    "\n",
    "columnas_factorizadas = ['Model', 'State', 'Make']\n",
    "\n",
    "\n",
    "dataTesting['Model'] = dataTesting['Model'].map(model_mapping)\n",
    "dataTesting['State'] = dataTesting['State'].map(state_mapping)\n",
    "dataTesting['Make'] = dataTesting['Make'].map(make_mapping)\n",
    "\n"
   ]
  },
  {
   "cell_type": "code",
   "execution_count": 11,
   "metadata": {
    "ExecuteTime": {
     "end_time": "2024-04-23T17:44:33.673425200Z",
     "start_time": "2024-04-23T17:44:33.334618400Z"
    },
    "collapsed": false,
    "jupyter": {
     "outputs_hidden": false
    }
   },
   "outputs": [
    {
     "data": {
      "text/html": [
       "<div>\n",
       "<style scoped>\n",
       "    .dataframe tbody tr th:only-of-type {\n",
       "        vertical-align: middle;\n",
       "    }\n",
       "\n",
       "    .dataframe tbody tr th {\n",
       "        vertical-align: top;\n",
       "    }\n",
       "\n",
       "    .dataframe thead th {\n",
       "        text-align: right;\n",
       "    }\n",
       "</style>\n",
       "<table border=\"1\" class=\"dataframe\">\n",
       "  <thead>\n",
       "    <tr style=\"text-align: right;\">\n",
       "      <th></th>\n",
       "      <th>Price</th>\n",
       "      <th>Year</th>\n",
       "      <th>Mileage</th>\n",
       "      <th>State</th>\n",
       "      <th>Make</th>\n",
       "      <th>Model</th>\n",
       "    </tr>\n",
       "  </thead>\n",
       "  <tbody>\n",
       "    <tr>\n",
       "      <th>0</th>\n",
       "      <td>34995</td>\n",
       "      <td>2017</td>\n",
       "      <td>9913</td>\n",
       "      <td>0</td>\n",
       "      <td>0</td>\n",
       "      <td>0</td>\n",
       "    </tr>\n",
       "    <tr>\n",
       "      <th>1</th>\n",
       "      <td>37895</td>\n",
       "      <td>2015</td>\n",
       "      <td>20578</td>\n",
       "      <td>1</td>\n",
       "      <td>1</td>\n",
       "      <td>1</td>\n",
       "    </tr>\n",
       "    <tr>\n",
       "      <th>2</th>\n",
       "      <td>18430</td>\n",
       "      <td>2012</td>\n",
       "      <td>83716</td>\n",
       "      <td>2</td>\n",
       "      <td>2</td>\n",
       "      <td>2</td>\n",
       "    </tr>\n",
       "    <tr>\n",
       "      <th>3</th>\n",
       "      <td>24681</td>\n",
       "      <td>2014</td>\n",
       "      <td>28729</td>\n",
       "      <td>1</td>\n",
       "      <td>3</td>\n",
       "      <td>3</td>\n",
       "    </tr>\n",
       "    <tr>\n",
       "      <th>4</th>\n",
       "      <td>26998</td>\n",
       "      <td>2013</td>\n",
       "      <td>64032</td>\n",
       "      <td>3</td>\n",
       "      <td>0</td>\n",
       "      <td>0</td>\n",
       "    </tr>\n",
       "    <tr>\n",
       "      <th>...</th>\n",
       "      <td>...</td>\n",
       "      <td>...</td>\n",
       "      <td>...</td>\n",
       "      <td>...</td>\n",
       "      <td>...</td>\n",
       "      <td>...</td>\n",
       "    </tr>\n",
       "    <tr>\n",
       "      <th>399995</th>\n",
       "      <td>29900</td>\n",
       "      <td>2015</td>\n",
       "      <td>25287</td>\n",
       "      <td>2</td>\n",
       "      <td>23</td>\n",
       "      <td>278</td>\n",
       "    </tr>\n",
       "    <tr>\n",
       "      <th>399996</th>\n",
       "      <td>17688</td>\n",
       "      <td>2015</td>\n",
       "      <td>17677</td>\n",
       "      <td>28</td>\n",
       "      <td>1</td>\n",
       "      <td>103</td>\n",
       "    </tr>\n",
       "    <tr>\n",
       "      <th>399997</th>\n",
       "      <td>24907</td>\n",
       "      <td>2014</td>\n",
       "      <td>66688</td>\n",
       "      <td>13</td>\n",
       "      <td>6</td>\n",
       "      <td>118</td>\n",
       "    </tr>\n",
       "    <tr>\n",
       "      <th>399998</th>\n",
       "      <td>11498</td>\n",
       "      <td>2014</td>\n",
       "      <td>37872</td>\n",
       "      <td>33</td>\n",
       "      <td>8</td>\n",
       "      <td>11</td>\n",
       "    </tr>\n",
       "    <tr>\n",
       "      <th>399999</th>\n",
       "      <td>16900</td>\n",
       "      <td>2014</td>\n",
       "      <td>78606</td>\n",
       "      <td>3</td>\n",
       "      <td>14</td>\n",
       "      <td>237</td>\n",
       "    </tr>\n",
       "  </tbody>\n",
       "</table>\n",
       "<p>400000 rows × 6 columns</p>\n",
       "</div>"
      ],
      "text/plain": [
       "        Price  Year  Mileage  State  Make  Model\n",
       "0       34995  2017     9913      0     0      0\n",
       "1       37895  2015    20578      1     1      1\n",
       "2       18430  2012    83716      2     2      2\n",
       "3       24681  2014    28729      1     3      3\n",
       "4       26998  2013    64032      3     0      0\n",
       "...       ...   ...      ...    ...   ...    ...\n",
       "399995  29900  2015    25287      2    23    278\n",
       "399996  17688  2015    17677     28     1    103\n",
       "399997  24907  2014    66688     13     6    118\n",
       "399998  11498  2014    37872     33     8     11\n",
       "399999  16900  2014    78606      3    14    237\n",
       "\n",
       "[400000 rows x 6 columns]"
      ]
     },
     "execution_count": 11,
     "metadata": {},
     "output_type": "execute_result"
    }
   ],
   "source": [
    "dataTraining"
   ]
  },
  {
   "cell_type": "code",
   "execution_count": 12,
   "metadata": {
    "ExecuteTime": {
     "end_time": "2024-04-23T17:44:33.725983700Z",
     "start_time": "2024-04-23T17:44:33.350807100Z"
    },
    "collapsed": false,
    "jupyter": {
     "outputs_hidden": false
    }
   },
   "outputs": [
    {
     "data": {
      "text/html": [
       "<div>\n",
       "<style scoped>\n",
       "    .dataframe tbody tr th:only-of-type {\n",
       "        vertical-align: middle;\n",
       "    }\n",
       "\n",
       "    .dataframe tbody tr th {\n",
       "        vertical-align: top;\n",
       "    }\n",
       "\n",
       "    .dataframe thead th {\n",
       "        text-align: right;\n",
       "    }\n",
       "</style>\n",
       "<table border=\"1\" class=\"dataframe\">\n",
       "  <thead>\n",
       "    <tr style=\"text-align: right;\">\n",
       "      <th></th>\n",
       "      <th>Year</th>\n",
       "      <th>Mileage</th>\n",
       "      <th>State</th>\n",
       "      <th>Make</th>\n",
       "      <th>Model</th>\n",
       "    </tr>\n",
       "    <tr>\n",
       "      <th>ID</th>\n",
       "      <th></th>\n",
       "      <th></th>\n",
       "      <th></th>\n",
       "      <th></th>\n",
       "      <th></th>\n",
       "    </tr>\n",
       "  </thead>\n",
       "  <tbody>\n",
       "    <tr>\n",
       "      <th>0</th>\n",
       "      <td>2014</td>\n",
       "      <td>31909</td>\n",
       "      <td>25</td>\n",
       "      <td>14</td>\n",
       "      <td>55</td>\n",
       "    </tr>\n",
       "    <tr>\n",
       "      <th>1</th>\n",
       "      <td>2017</td>\n",
       "      <td>5362</td>\n",
       "      <td>0</td>\n",
       "      <td>0</td>\n",
       "      <td>0</td>\n",
       "    </tr>\n",
       "    <tr>\n",
       "      <th>2</th>\n",
       "      <td>2014</td>\n",
       "      <td>50300</td>\n",
       "      <td>1</td>\n",
       "      <td>10</td>\n",
       "      <td>85</td>\n",
       "    </tr>\n",
       "    <tr>\n",
       "      <th>3</th>\n",
       "      <td>2004</td>\n",
       "      <td>132160</td>\n",
       "      <td>5</td>\n",
       "      <td>2</td>\n",
       "      <td>74</td>\n",
       "    </tr>\n",
       "    <tr>\n",
       "      <th>4</th>\n",
       "      <td>2015</td>\n",
       "      <td>25226</td>\n",
       "      <td>31</td>\n",
       "      <td>0</td>\n",
       "      <td>48</td>\n",
       "    </tr>\n",
       "    <tr>\n",
       "      <th>...</th>\n",
       "      <td>...</td>\n",
       "      <td>...</td>\n",
       "      <td>...</td>\n",
       "      <td>...</td>\n",
       "      <td>...</td>\n",
       "    </tr>\n",
       "    <tr>\n",
       "      <th>99995</th>\n",
       "      <td>2015</td>\n",
       "      <td>82719</td>\n",
       "      <td>2</td>\n",
       "      <td>9</td>\n",
       "      <td>404</td>\n",
       "    </tr>\n",
       "    <tr>\n",
       "      <th>99996</th>\n",
       "      <td>2015</td>\n",
       "      <td>19711</td>\n",
       "      <td>19</td>\n",
       "      <td>2</td>\n",
       "      <td>74</td>\n",
       "    </tr>\n",
       "    <tr>\n",
       "      <th>99997</th>\n",
       "      <td>2016</td>\n",
       "      <td>48049</td>\n",
       "      <td>7</td>\n",
       "      <td>14</td>\n",
       "      <td>55</td>\n",
       "    </tr>\n",
       "    <tr>\n",
       "      <th>99998</th>\n",
       "      <td>2017</td>\n",
       "      <td>15306</td>\n",
       "      <td>3</td>\n",
       "      <td>0</td>\n",
       "      <td>24</td>\n",
       "    </tr>\n",
       "    <tr>\n",
       "      <th>99999</th>\n",
       "      <td>2013</td>\n",
       "      <td>40393</td>\n",
       "      <td>2</td>\n",
       "      <td>2</td>\n",
       "      <td>192</td>\n",
       "    </tr>\n",
       "  </tbody>\n",
       "</table>\n",
       "<p>100000 rows × 5 columns</p>\n",
       "</div>"
      ],
      "text/plain": [
       "       Year  Mileage  State  Make  Model\n",
       "ID                                      \n",
       "0      2014    31909     25    14     55\n",
       "1      2017     5362      0     0      0\n",
       "2      2014    50300      1    10     85\n",
       "3      2004   132160      5     2     74\n",
       "4      2015    25226     31     0     48\n",
       "...     ...      ...    ...   ...    ...\n",
       "99995  2015    82719      2     9    404\n",
       "99996  2015    19711     19     2     74\n",
       "99997  2016    48049      7    14     55\n",
       "99998  2017    15306      3     0     24\n",
       "99999  2013    40393      2     2    192\n",
       "\n",
       "[100000 rows x 5 columns]"
      ]
     },
     "execution_count": 12,
     "metadata": {},
     "output_type": "execute_result"
    }
   ],
   "source": [
    "dataTesting"
   ]
  },
  {
   "cell_type": "markdown",
   "metadata": {
    "collapsed": false,
    "jupyter": {
     "outputs_hidden": false
    }
   },
   "source": [
    "# Preprocesamiento de datos\n",
    "En primer lugar. Se nota la presencia de tres columnas con variables categóricas: Model, State y Make, las cuales se codifican para crear el modelo. Por otra parte, se observa que la base de datos no presenta datos faltantes, como se muestra en el siguiente gráfico:\n",
    "\n",
    "\n",
    "\n"
   ]
  },
  {
   "cell_type": "code",
   "execution_count": 13,
   "metadata": {
    "ExecuteTime": {
     "start_time": "2024-04-23T17:44:33.387021Z"
    },
    "collapsed": false,
    "is_executing": true,
    "jupyter": {
     "outputs_hidden": false
    }
   },
   "outputs": [
    {
     "data": {
      "image/png": "[encoded data removed]",
      "text/plain": [
       "<Figure size 2500x1000 with 2 Axes>"
      ]
     },
     "metadata": {},
     "output_type": "display_data"
    }
   ],
   "source": [
    "msno.matrix(dataTraining)\n",
    "plt.title('Datos faltantes de la base de datos')\n",
    "plt.show()"
   ]
  },
  {
   "cell_type": "code",
   "execution_count": 14,
   "metadata": {
    "collapsed": false,
    "is_executing": true,
    "jupyter": {
     "outputs_hidden": false
    }
   },
   "outputs": [
    {
     "data": {
      "text/html": [
       "<div>\n",
       "<style scoped>\n",
       "    .dataframe tbody tr th:only-of-type {\n",
       "        vertical-align: middle;\n",
       "    }\n",
       "\n",
       "    .dataframe tbody tr th {\n",
       "        vertical-align: top;\n",
       "    }\n",
       "\n",
       "    .dataframe thead th {\n",
       "        text-align: right;\n",
       "    }\n",
       "</style>\n",
       "<table border=\"1\" class=\"dataframe\">\n",
       "  <thead>\n",
       "    <tr style=\"text-align: right;\">\n",
       "      <th></th>\n",
       "      <th>Price</th>\n",
       "      <th>Year</th>\n",
       "      <th>Mileage</th>\n",
       "      <th>State</th>\n",
       "      <th>Make</th>\n",
       "      <th>Model</th>\n",
       "    </tr>\n",
       "  </thead>\n",
       "  <tbody>\n",
       "    <tr>\n",
       "      <th>count</th>\n",
       "      <td>400000.000000</td>\n",
       "      <td>400000.000000</td>\n",
       "      <td>4.000000e+05</td>\n",
       "      <td>400000.00000</td>\n",
       "      <td>400000.000000</td>\n",
       "      <td>400000.000000</td>\n",
       "    </tr>\n",
       "    <tr>\n",
       "      <th>mean</th>\n",
       "      <td>21146.919312</td>\n",
       "      <td>2013.198125</td>\n",
       "      <td>5.507296e+04</td>\n",
       "      <td>14.96114</td>\n",
       "      <td>9.070550</td>\n",
       "      <td>141.388242</td>\n",
       "    </tr>\n",
       "    <tr>\n",
       "      <th>std</th>\n",
       "      <td>10753.664940</td>\n",
       "      <td>3.292326</td>\n",
       "      <td>4.088102e+04</td>\n",
       "      <td>12.35909</td>\n",
       "      <td>6.995047</td>\n",
       "      <td>121.688564</td>\n",
       "    </tr>\n",
       "    <tr>\n",
       "      <th>min</th>\n",
       "      <td>5001.000000</td>\n",
       "      <td>1997.000000</td>\n",
       "      <td>5.000000e+00</td>\n",
       "      <td>0.00000</td>\n",
       "      <td>0.000000</td>\n",
       "      <td>0.000000</td>\n",
       "    </tr>\n",
       "    <tr>\n",
       "      <th>25%</th>\n",
       "      <td>13499.000000</td>\n",
       "      <td>2012.000000</td>\n",
       "      <td>2.584100e+04</td>\n",
       "      <td>3.00000</td>\n",
       "      <td>3.000000</td>\n",
       "      <td>45.000000</td>\n",
       "    </tr>\n",
       "    <tr>\n",
       "      <th>50%</th>\n",
       "      <td>18450.000000</td>\n",
       "      <td>2014.000000</td>\n",
       "      <td>4.295500e+04</td>\n",
       "      <td>13.00000</td>\n",
       "      <td>9.000000</td>\n",
       "      <td>104.000000</td>\n",
       "    </tr>\n",
       "    <tr>\n",
       "      <th>75%</th>\n",
       "      <td>26999.000000</td>\n",
       "      <td>2016.000000</td>\n",
       "      <td>7.743300e+04</td>\n",
       "      <td>24.00000</td>\n",
       "      <td>13.000000</td>\n",
       "      <td>211.000000</td>\n",
       "    </tr>\n",
       "    <tr>\n",
       "      <th>max</th>\n",
       "      <td>79999.000000</td>\n",
       "      <td>2018.000000</td>\n",
       "      <td>2.457832e+06</td>\n",
       "      <td>50.00000</td>\n",
       "      <td>37.000000</td>\n",
       "      <td>524.000000</td>\n",
       "    </tr>\n",
       "  </tbody>\n",
       "</table>\n",
       "</div>"
      ],
      "text/plain": [
       "               Price           Year       Mileage         State  \\\n",
       "count  400000.000000  400000.000000  4.000000e+05  400000.00000   \n",
       "mean    21146.919312    2013.198125  5.507296e+04      14.96114   \n",
       "std     10753.664940       3.292326  4.088102e+04      12.35909   \n",
       "min      5001.000000    1997.000000  5.000000e+00       0.00000   \n",
       "25%     13499.000000    2012.000000  2.584100e+04       3.00000   \n",
       "50%     18450.000000    2014.000000  4.295500e+04      13.00000   \n",
       "75%     26999.000000    2016.000000  7.743300e+04      24.00000   \n",
       "max     79999.000000    2018.000000  2.457832e+06      50.00000   \n",
       "\n",
       "                Make          Model  \n",
       "count  400000.000000  400000.000000  \n",
       "mean        9.070550     141.388242  \n",
       "std         6.995047     121.688564  \n",
       "min         0.000000       0.000000  \n",
       "25%         3.000000      45.000000  \n",
       "50%         9.000000     104.000000  \n",
       "75%        13.000000     211.000000  \n",
       "max        37.000000     524.000000  "
      ]
     },
     "execution_count": 14,
     "metadata": {},
     "output_type": "execute_result"
    }
   ],
   "source": [
    "dataTraining.describe()"
   ]
  },
  {
   "cell_type": "markdown",
   "metadata": {
    "collapsed": false,
    "jupyter": {
     "outputs_hidden": false
    }
   },
   "source": [
    "como se puede observar en la tabla anterior la media del precio es de 21146.91 el precio minimo es de 5001 y el precio maximo es de 79999 y por otra parte podemos observar que los años van desde 1997 hasta 2018."
   ]
  },
  {
   "cell_type": "code",
   "execution_count": 15,
   "metadata": {
    "collapsed": false,
    "is_executing": true,
    "jupyter": {
     "outputs_hidden": false
    }
   },
   "outputs": [
    {
     "data": {
      "text/html": [
       "<div>\n",
       "<style scoped>\n",
       "    .dataframe tbody tr th:only-of-type {\n",
       "        vertical-align: middle;\n",
       "    }\n",
       "\n",
       "    .dataframe tbody tr th {\n",
       "        vertical-align: top;\n",
       "    }\n",
       "\n",
       "    .dataframe thead th {\n",
       "        text-align: right;\n",
       "    }\n",
       "</style>\n",
       "<table border=\"1\" class=\"dataframe\">\n",
       "  <thead>\n",
       "    <tr style=\"text-align: right;\">\n",
       "      <th></th>\n",
       "      <th>Year</th>\n",
       "      <th>Mileage</th>\n",
       "      <th>State</th>\n",
       "      <th>Make</th>\n",
       "      <th>Model</th>\n",
       "    </tr>\n",
       "  </thead>\n",
       "  <tbody>\n",
       "    <tr>\n",
       "      <th>0</th>\n",
       "      <td>2017</td>\n",
       "      <td>9913</td>\n",
       "      <td>0</td>\n",
       "      <td>0</td>\n",
       "      <td>0</td>\n",
       "    </tr>\n",
       "    <tr>\n",
       "      <th>1</th>\n",
       "      <td>2015</td>\n",
       "      <td>20578</td>\n",
       "      <td>1</td>\n",
       "      <td>1</td>\n",
       "      <td>1</td>\n",
       "    </tr>\n",
       "    <tr>\n",
       "      <th>2</th>\n",
       "      <td>2012</td>\n",
       "      <td>83716</td>\n",
       "      <td>2</td>\n",
       "      <td>2</td>\n",
       "      <td>2</td>\n",
       "    </tr>\n",
       "    <tr>\n",
       "      <th>3</th>\n",
       "      <td>2014</td>\n",
       "      <td>28729</td>\n",
       "      <td>1</td>\n",
       "      <td>3</td>\n",
       "      <td>3</td>\n",
       "    </tr>\n",
       "    <tr>\n",
       "      <th>4</th>\n",
       "      <td>2013</td>\n",
       "      <td>64032</td>\n",
       "      <td>3</td>\n",
       "      <td>0</td>\n",
       "      <td>0</td>\n",
       "    </tr>\n",
       "    <tr>\n",
       "      <th>...</th>\n",
       "      <td>...</td>\n",
       "      <td>...</td>\n",
       "      <td>...</td>\n",
       "      <td>...</td>\n",
       "      <td>...</td>\n",
       "    </tr>\n",
       "    <tr>\n",
       "      <th>399995</th>\n",
       "      <td>2015</td>\n",
       "      <td>25287</td>\n",
       "      <td>2</td>\n",
       "      <td>23</td>\n",
       "      <td>278</td>\n",
       "    </tr>\n",
       "    <tr>\n",
       "      <th>399996</th>\n",
       "      <td>2015</td>\n",
       "      <td>17677</td>\n",
       "      <td>28</td>\n",
       "      <td>1</td>\n",
       "      <td>103</td>\n",
       "    </tr>\n",
       "    <tr>\n",
       "      <th>399997</th>\n",
       "      <td>2014</td>\n",
       "      <td>66688</td>\n",
       "      <td>13</td>\n",
       "      <td>6</td>\n",
       "      <td>118</td>\n",
       "    </tr>\n",
       "    <tr>\n",
       "      <th>399998</th>\n",
       "      <td>2014</td>\n",
       "      <td>37872</td>\n",
       "      <td>33</td>\n",
       "      <td>8</td>\n",
       "      <td>11</td>\n",
       "    </tr>\n",
       "    <tr>\n",
       "      <th>399999</th>\n",
       "      <td>2014</td>\n",
       "      <td>78606</td>\n",
       "      <td>3</td>\n",
       "      <td>14</td>\n",
       "      <td>237</td>\n",
       "    </tr>\n",
       "  </tbody>\n",
       "</table>\n",
       "<p>400000 rows × 5 columns</p>\n",
       "</div>"
      ],
      "text/plain": [
       "        Year  Mileage  State  Make  Model\n",
       "0       2017     9913      0     0      0\n",
       "1       2015    20578      1     1      1\n",
       "2       2012    83716      2     2      2\n",
       "3       2014    28729      1     3      3\n",
       "4       2013    64032      3     0      0\n",
       "...      ...      ...    ...   ...    ...\n",
       "399995  2015    25287      2    23    278\n",
       "399996  2015    17677     28     1    103\n",
       "399997  2014    66688     13     6    118\n",
       "399998  2014    37872     33     8     11\n",
       "399999  2014    78606      3    14    237\n",
       "\n",
       "[400000 rows x 5 columns]"
      ]
     },
     "execution_count": 15,
     "metadata": {},
     "output_type": "execute_result"
    }
   ],
   "source": [
    "\n",
    "y = dataTraining['Price']\n",
    "X = dataTraining.drop(['Price'], axis=1)\n",
    "X_train, X_test, y_train, y_test = train_test_split(X, y, test_size=0.33, random_state=42)\n",
    "X"
   ]
  },
  {
   "cell_type": "markdown",
   "metadata": {
    "collapsed": false,
    "jupyter": {
     "outputs_hidden": false
    }
   },
   "source": [
    "# Calibración del modelo"
   ]
  },
  {
   "cell_type": "code",
   "execution_count": 19,
   "metadata": {
    "ExecuteTime": {
     "end_time": "2024-04-20T15:41:04.058832900Z",
     "start_time": "2024-04-20T15:26:26.470236500Z"
    },
    "collapsed": false,
    "jupyter": {
     "outputs_hidden": false
    }
   },
   "outputs": [
    {
     "name": "stdout",
     "output_type": "stream",
     "text": [
      "Mejores parámetros: {'max_depth': 30, 'max_features': 'sqrt', 'n_estimators': 200}\n",
      "RMSE (Mejor Random Forest): 3989.876526757197\n",
      "MAE (Mejor Random Forest): 2575.021403216333\n"
     ]
    }
   ],
   "source": [
    "param_grid = {\n",
    "    'max_depth': [10, 20, 30],\n",
    "    'max_features': ['sqrt', 'log2', 0.5],\n",
    "    'n_estimators': [50, 100, 200]\n",
    "}\n",
    "rf = RandomForestRegressor(random_state=42)\n",
    "grid_search = GridSearchCV(estimator=rf, param_grid=param_grid, cv=3, n_jobs=-1, scoring='neg_mean_squared_error')\n",
    "grid_search.fit(X_train, y_train)\n",
    "print(\"Mejores parámetros:\", grid_search.best_params_)\n",
    "\n",
    "best_rf = grid_search.best_estimator_\n",
    "y_pred_best_rf = best_rf.predict(X_test)\n",
    "rmse_best_rf = np.sqrt(mean_squared_error(y_test, y_pred_best_rf))\n",
    "mae_best_rf = mean_absolute_error(y_test, y_pred_best_rf)\n",
    "\n",
    "print(\"RMSE (Mejor Random Forest):\", rmse_best_rf)\n",
    "print(\"MAE (Mejor Random Forest):\", mae_best_rf)"
   ]
  },
  {
   "cell_type": "code",
   "execution_count": 20,
   "metadata": {
    "ExecuteTime": {
     "end_time": "2024-04-20T16:46:44.663190100Z",
     "start_time": "2024-04-20T16:45:22.302930Z"
    },
    "collapsed": false,
    "jupyter": {
     "outputs_hidden": false
    }
   },
   "outputs": [
    {
     "name": "stdout",
     "output_type": "stream",
     "text": [
      "Fitting 3 folds for each of 64 candidates, totalling 192 fits\n",
      "Mejores parámetros encontrados: {'colsample_bytree': 1.0, 'gamma': 0, 'learning_rate': 0.3}\n",
      "RMSE (Mejor XGBoost): 4254.639203901381\n",
      "MAE (Mejor XGBoost): 2894.125845964374\n"
     ]
    }
   ],
   "source": [
    "\n",
    "param_grid = {\n",
    "    'learning_rate': [0.01, 0.1, 0.2, 0.3],\n",
    "    'gamma': [0, 0.1, 0.5, 1],               \n",
    "    'colsample_bytree': [0.3, 0.5, 0.7, 1.0] \n",
    "}\n",
    "\n",
    "\n",
    "xgb_model = xgb.XGBRegressor(objective ='reg:squarederror', n_estimators=100, max_depth=5)\n",
    "\n",
    "\n",
    "grid_search = GridSearchCV(estimator=xgb_model, param_grid=param_grid, scoring='neg_mean_squared_error', cv=3, verbose=1, n_jobs=-1)\n",
    "\n",
    "\n",
    "grid_search.fit(X_train, y_train)\n",
    "\n",
    "\n",
    "best_parameters = grid_search.best_params_\n",
    "best_model = grid_search.best_estimator_\n",
    "\n",
    "# Evaluación del mejor modelo\n",
    "y_pred_best_xgb = best_model.predict(X_test)\n",
    "rmse_best_xgb = np.sqrt(mean_squared_error(y_test, y_pred_best_xgb))\n",
    "mae_best_xgb = mean_absolute_error(y_test, y_pred_best_xgb)\n",
    "\n",
    "print(\"Mejores parámetros encontrados:\", best_parameters)\n",
    "print(\"RMSE (Mejor XGBoost):\", rmse_best_xgb)\n",
    "print(\"MAE (Mejor XGBoost):\", mae_best_xgb)"
   ]
  },
  {
   "cell_type": "code",
   "execution_count": 21,
   "metadata": {
    "ExecuteTime": {
     "end_time": "2024-04-20T16:54:26.099950900Z",
     "start_time": "2024-04-20T16:54:04.913761Z"
    },
    "collapsed": false,
    "jupyter": {
     "outputs_hidden": false
    }
   },
   "outputs": [
    {
     "name": "stdout",
     "output_type": "stream",
     "text": [
      "Fitting 3 folds for each of 4 candidates, totalling 12 fits\n",
      "Mejores parámetros encontrados: {'n_estimators': 12}\n",
      "RMSE (Mejor XGBoost): 4179.343599138724\n",
      "MAE (Mejor XGBoost): 2705.332877250559\n"
     ]
    }
   ],
   "source": [
    "param_grid = {\n",
    "    'n_estimators': [5, 8, 10, 12]   \n",
    "}\n",
    "max_features = int(np.log2(X_train.shape[1])) \n",
    "\n",
    "bagreg = BaggingRegressor(\n",
    "    DecisionTreeRegressor(max_features=max_features),\n",
    "    bootstrap=True,\n",
    "    oob_score=True,\n",
    "    random_state=1\n",
    ")\n",
    "grid_search = GridSearchCV(estimator=bagreg, param_grid=param_grid, scoring='neg_mean_squared_error', cv=3, verbose=1, n_jobs=-1)\n",
    "\n",
    "\n",
    "grid_search.fit(X_train, y_train)\n",
    "\n",
    "best_parameters_bag = grid_search.best_params_\n",
    "best_model_bag = grid_search.best_estimator_\n",
    "\n",
    "# Evaluación del mejor modelo\n",
    "y_pred_best_bag = best_model_bag.predict(X_test)\n",
    "rmse_best_bag = np.sqrt(mean_squared_error(y_test, y_pred_best_bag))\n",
    "mae_best_bag = mean_absolute_error(y_test, y_pred_best_bag)\n",
    "\n",
    "print(\"Mejores parámetros encontrados:\", best_parameters_bag)\n",
    "print(\"RMSE (Mejor XGBoost):\", rmse_best_bag)\n",
    "print(\"MAE (Mejor XGBoost):\", mae_best_bag)\n"
   ]
  },
  {
   "cell_type": "code",
   "execution_count": 22,
   "metadata": {
    "ExecuteTime": {
     "end_time": "2024-04-23T16:41:13.389947900Z",
     "start_time": "2024-04-23T16:38:30.076090300Z"
    },
    "collapsed": false,
    "jupyter": {
     "outputs_hidden": false
    }
   },
   "outputs": [
    {
     "name": "stdout",
     "output_type": "stream",
     "text": [
      "[LightGBM] [Info] Auto-choosing col-wise multi-threading, the overhead of testing was 0.011869 seconds.\n",
      "You can set `force_col_wise=true` to remove the overhead.\n",
      "[LightGBM] [Info] Total Bins 622\n",
      "[LightGBM] [Info] Number of data points in the train set: 268000, number of used features: 5\n",
      "[LightGBM] [Info] Start training from score 21170.012556\n"
     ]
    }
   ],
   "source": [
    "\n",
    "\n",
    "# Inicializa los modelos individuales\n",
    "random_forest = RandomForestRegressor()\n",
    "lightgbm = LGBMRegressor()\n",
    "extra_trees = ExtraTreesRegressor()\n",
    "\n",
    "\n",
    "# Crea un ensamble de modelos\n",
    "ensemble_model = VotingRegressor([('rf', random_forest), \n",
    "                                  ('lightgbm', lightgbm), \n",
    "                                  ('et', extra_trees)])\n",
    "\n",
    "\n",
    "ensemble_model.fit(X_train, y_train)  \n",
    "\n",
    "\n",
    "predictions = ensemble_model.predict(X_test)  # Asegúrate de tener tus datos de prueba (X_test)\n",
    "\n",
    "# Evalúa el rendimiento del ensamble\n",
    "ensemble_score = ensemble_model.score(X_test, y_test)  # Asegúrate de tener tus etiquetas de prueba (y_test)\n"
   ]
  },
  {
   "cell_type": "code",
   "execution_count": 23,
   "metadata": {
    "ExecuteTime": {
     "end_time": "2024-04-23T16:43:29.272852200Z",
     "start_time": "2024-04-23T16:43:16.709731200Z"
    },
    "collapsed": false,
    "jupyter": {
     "outputs_hidden": false
    }
   },
   "outputs": [
    {
     "name": "stdout",
     "output_type": "stream",
     "text": [
      "RMSE (Mejor XGBoost): 4102.659000311904\n",
      "MAE (Mejor XGBoost): 2824.1588311516807\n"
     ]
    }
   ],
   "source": [
    "y_pred_ensemble_model = ensemble_model.predict(X_test)\n",
    "rmse_ensemble_model = np.sqrt(mean_squared_error(y_test, y_pred_ensemble_model))\n",
    "mae_ensemble_model = mean_absolute_error(y_test, y_pred_ensemble_model)\n",
    "\n",
    "\n",
    "print(\"RMSE (Mejor XGBoost):\", rmse_ensemble_model)\n",
    "print(\"MAE (Mejor XGBoost):\", mae_ensemble_model)\n"
   ]
  },
  {
   "cell_type": "code",
   "execution_count": 16,
   "metadata": {
    "ExecuteTime": {
     "start_time": "2024-04-23T17:40:36.733030400Z"
    },
    "collapsed": false,
    "is_executing": true,
    "jupyter": {
     "outputs_hidden": false
    }
   },
   "outputs": [
    {
     "name": "stdout",
     "output_type": "stream",
     "text": [
      "[LightGBM] [Info] Auto-choosing col-wise multi-threading, the overhead of testing was 0.005708 seconds.\n",
      "You can set `force_col_wise=true` to remove the overhead.\n",
      "[LightGBM] [Info] Total Bins 622\n",
      "[LightGBM] [Info] Number of data points in the train set: 268000, number of used features: 5\n",
      "[LightGBM] [Info] Start training from score 21170.012556\n",
      "los scores son : score_rf 0.8766893878220183  score_lightgbm0.8185520983487256  score_et 0.8578873389079991\n",
      "[LightGBM] [Info] Auto-choosing col-wise multi-threading, the overhead of testing was 0.007231 seconds.\n",
      "You can set `force_col_wise=true` to remove the overhead.\n",
      "[LightGBM] [Info] Total Bins 622\n",
      "[LightGBM] [Info] Number of data points in the train set: 268000, number of used features: 5\n",
      "[LightGBM] [Info] Start training from score 21170.012556\n"
     ]
    },
    {
     "data": {
      "text/plain": [
       "0.8771572519490457"
      ]
     },
     "execution_count": 16,
     "metadata": {},
     "output_type": "execute_result"
    }
   ],
   "source": [
    "\n",
    "random_forest = RandomForestRegressor(max_depth = 30, n_estimators = 200)\n",
    "lightgbm = LGBMRegressor()\n",
    "extra_trees = ExtraTreesRegressor()\n",
    "\n",
    "\n",
    "\n",
    "random_forest.fit(X_train, y_train)  \n",
    "lightgbm.fit(X_train, y_train)  \n",
    "extra_trees.fit(X_train, y_train)  \n",
    "\n",
    "\n",
    "# Evalúa el desempeño de cada modelo en datos de validación\n",
    "score_rf = random_forest.score(X_test, y_test)\n",
    "score_lightgbm = lightgbm.score(X_test, y_test)\n",
    "score_et = extra_trees.score(X_test, y_test)\n",
    "\n",
    "\n",
    "print(f'los scores son : score_rf {score_rf}  score_lightgbm{score_lightgbm}  score_et {score_et}')\n",
    "total_score = score_rf + score_lightgbm + score_et \n",
    "weight_rf = score_rf / total_score\n",
    "weight_lightgbm = score_lightgbm / total_score\n",
    "weight_et = score_et / total_score\n",
    "\n",
    "\n",
    "ensemble_model_weighted = VotingRegressor([('rf', random_forest), \n",
    "                                           ('lightgbm', lightgbm), \n",
    "                                           ('et', extra_trees)], weights=[weight_rf, weight_lightgbm, weight_et])\n",
    "\n",
    "\n",
    "ensemble_model_weighted.fit(X_train, y_train) \n",
    "predictions_weighted = ensemble_model_weighted.predict(X_test)  \n",
    "ensemble_score_weighted = ensemble_model_weighted.score(X_test, y_test)  # Asegúrate de \n",
    "ensemble_score_weighted"
   ]
  },
  {
   "cell_type": "code",
   "execution_count": 24,
   "metadata": {
    "ExecuteTime": {
     "end_time": "2024-04-23T17:29:19.940540700Z",
     "start_time": "2024-04-23T17:29:19.746557400Z"
    },
    "collapsed": false,
    "jupyter": {
     "outputs_hidden": false
    }
   },
   "outputs": [
    {
     "name": "stdout",
     "output_type": "stream",
     "text": [
      "RMSE (Mejor XGBoost): 3759.384259474543\n",
      "MAE (Mejor XGBoost): 2453.6598828462133\n"
     ]
    }
   ],
   "source": [
    "rmse_weighted = np.sqrt(mean_squared_error(y_test, predictions_weighted))\n",
    "mae_weighted = mean_absolute_error(y_test, predictions_weighted)\n",
    "print(\"RMSE (Mejor XGBoost):\", rmse_weighted)\n",
    "print(\"MAE (Mejor XGBoost):\", mae_weighted)"
   ]
  },
  {
   "cell_type": "code",
   "execution_count": 25,
   "metadata": {
    "ExecuteTime": {
     "end_time": "2024-04-20T17:03:47.751696500Z",
     "start_time": "2024-04-20T17:03:47.557326900Z"
    },
    "collapsed": false,
    "jupyter": {
     "outputs_hidden": false
    }
   },
   "outputs": [
    {
     "data": {
      "image/png": "[encoded data removed]",
      "text/plain": [
       "<Figure size 1000x400 with 1 Axes>"
      ]
     },
     "metadata": {},
     "output_type": "display_data"
    }
   ],
   "source": [
    "def add_labels(plots):\n",
    "    for bar in plots.patches:\n",
    "      plots.annotate(format(bar.get_height(), '.2f'),\n",
    "                   (bar.get_x() + bar.get_width() / 2,\n",
    "                    bar.get_height()), ha='center', va='center',\n",
    "                   size=10, xytext=(0, 5),\n",
    "                   textcoords='offset points')\n",
    "def graficar(x, y, medida_desempeño):\n",
    "    df = pd.DataFrame({'Modelo': x, medida_desempeño: y})\n",
    "\n",
    "    plt.figure(figsize=(10, 4))\n",
    "    plots = sns.barplot(x='Modelo', y= medida_desempeño, data=df, palette=\"viridis\")\n",
    "    add_labels(plots)\n",
    "    plt.title(f'Comparación del {medida_desempeño}')\n",
    "    plt.show()\n",
    "ejeX = ['Random Forest', 'XGBoost', 'Bagging']\n",
    "ejeY = [mae_best_rf,mae_best_xgb,mae_best_bag]\n",
    "graficar(ejeX, ejeY, 'MAE')"
   ]
  },
  {
   "cell_type": "code",
   "execution_count": 26,
   "metadata": {
    "ExecuteTime": {
     "end_time": "2024-04-20T17:05:11.106509300Z",
     "start_time": "2024-04-20T17:05:10.925301Z"
    },
    "collapsed": false,
    "jupyter": {
     "outputs_hidden": false
    }
   },
   "outputs": [
    {
     "data": {
      "image/png": "[encoded data removed]",
      "text/plain": [
       "<Figure size 1000x400 with 1 Axes>"
      ]
     },
     "metadata": {},
     "output_type": "display_data"
    }
   ],
   "source": [
    "ejeX = ['Random Forest', 'XGBoost', 'Bagging']\n",
    "ejeY = [rmse_best_rf,rmse_best_xgb,rmse_best_bag]\n",
    "graficar(ejeX, ejeY, 'RMSE')"
   ]
  },
  {
   "cell_type": "markdown",
   "metadata": {
    "collapsed": false,
    "jupyter": {
     "outputs_hidden": false
    }
   },
   "source": [
    "Al realizar la comparativa de los modelos de Random Forest,XGBoost y Bagging ser llega a la conclución de que el mejor modelo es el modelo de ramdom forest ya que presenta un menor mae y rmse mostrando asi que tiene una mejor capacidad predictiva que los demas modelos."
   ]
  },
  {
   "cell_type": "markdown",
   "metadata": {
    "collapsed": false,
    "jupyter": {
     "outputs_hidden": false
    }
   },
   "source": [
    "# Entrenamiento del mejor modelo\n"
   ]
  },
  {
   "cell_type": "code",
   "execution_count": null,
   "metadata": {
    "ExecuteTime": {
     "start_time": "2024-04-23T17:31:23.038036900Z"
    },
    "collapsed": false,
    "is_executing": true,
    "jupyter": {
     "outputs_hidden": false
    }
   },
   "outputs": [],
   "source": [
    "\n",
    "modelo = RandomForestRegressor(random_state=42,max_depth = 30, n_estimators = 200)\n",
    "modelo.fit(X_train, y_train)\n",
    "joblib.dump(modelo, 'regresion.pkl', compress=3)\n"
   ]
  },
  {
   "cell_type": "code",
   "execution_count": 17,
   "metadata": {
    "ExecuteTime": {
     "end_time": "2024-04-23T17:40:26.094947100Z",
     "start_time": "2024-04-23T17:40:25.646373Z"
    },
    "collapsed": false,
    "jupyter": {
     "outputs_hidden": false
    }
   },
   "outputs": [
    {
     "data": {
      "text/plain": [
       "['ensemble_score_weighted.pkl']"
      ]
     },
     "execution_count": 17,
     "metadata": {},
     "output_type": "execute_result"
    }
   ],
   "source": [
    "joblib.dump(ensemble_score_weighted, 'ensemble_score_weighted.pkl', compress=3)"
   ]
  },
  {
   "cell_type": "markdown",
   "metadata": {
    "collapsed": false,
    "jupyter": {
     "outputs_hidden": false
    }
   },
   "source": [
    "# Predición datos de la competencia"
   ]
  },
  {
   "cell_type": "code",
   "execution_count": null,
   "metadata": {
    "ExecuteTime": {
     "end_time": "2024-04-23T14:49:55.034129400Z",
     "start_time": "2024-04-23T14:49:47.330836200Z"
    },
    "collapsed": false,
    "jupyter": {
     "outputs_hidden": false
    }
   },
   "outputs": [],
   "source": [
    "y_pred_comp = modelo.predict(dataTesting)\n",
    "y_pred_comp = pd.DataFrame(y_pred_comp, index=dataTesting.index, columns=['Price'])\n",
    "y_pred_comp.to_csv('test_submission.csv', index_label='ID')\n",
    "y_pred_comp.head()"
   ]
  },
  {
   "cell_type": "code",
   "execution_count": 18,
   "metadata": {},
   "outputs": [
    {
     "data": {
      "text/html": [
       "<div>\n",
       "<style scoped>\n",
       "    .dataframe tbody tr th:only-of-type {\n",
       "        vertical-align: middle;\n",
       "    }\n",
       "\n",
       "    .dataframe tbody tr th {\n",
       "        vertical-align: top;\n",
       "    }\n",
       "\n",
       "    .dataframe thead th {\n",
       "        text-align: right;\n",
       "    }\n",
       "</style>\n",
       "<table border=\"1\" class=\"dataframe\">\n",
       "  <thead>\n",
       "    <tr style=\"text-align: right;\">\n",
       "      <th></th>\n",
       "      <th>Price</th>\n",
       "    </tr>\n",
       "    <tr>\n",
       "      <th>ID</th>\n",
       "      <th></th>\n",
       "    </tr>\n",
       "  </thead>\n",
       "  <tbody>\n",
       "    <tr>\n",
       "      <th>0</th>\n",
       "      <td>21456.503797</td>\n",
       "    </tr>\n",
       "    <tr>\n",
       "      <th>1</th>\n",
       "      <td>36347.753665</td>\n",
       "    </tr>\n",
       "    <tr>\n",
       "      <th>2</th>\n",
       "      <td>23852.860595</td>\n",
       "    </tr>\n",
       "    <tr>\n",
       "      <th>3</th>\n",
       "      <td>8611.416968</td>\n",
       "    </tr>\n",
       "    <tr>\n",
       "      <th>4</th>\n",
       "      <td>30899.787146</td>\n",
       "    </tr>\n",
       "  </tbody>\n",
       "</table>\n",
       "</div>"
      ],
      "text/plain": [
       "           Price\n",
       "ID              \n",
       "0   21456.503797\n",
       "1   36347.753665\n",
       "2   23852.860595\n",
       "3    8611.416968\n",
       "4   30899.787146"
      ]
     },
     "execution_count": 18,
     "metadata": {},
     "output_type": "execute_result"
    }
   ],
   "source": [
    "y_pred_comp = ensemble_model_weighted.predict(dataTesting)\n",
    "y_pred_comp = pd.DataFrame(y_pred_comp, index=dataTesting.index, columns=['Price'])\n",
    "y_pred_comp.to_csv('test_submission2.csv', index_label='ID')\n",
    "y_pred_comp.head()"
   ]
  },
  {
   "cell_type": "markdown",
   "metadata": {
    "collapsed": false,
    "jupyter": {
     "outputs_hidden": false
    }
   },
   "source": [
    "# Codigo para disponibilizar el api"
   ]
  },
  {
   "cell_type": "code",
   "execution_count": null,
   "metadata": {
    "ExecuteTime": {
     "end_time": "2024-04-23T14:32:44.918415200Z",
     "start_time": "2024-04-23T14:29:23.728562800Z"
    },
    "collapsed": false,
    "jupyter": {
     "outputs_hidden": false
    }
   },
   "outputs": [],
   "source": [
    "from flask import Flask\n",
    "from flask_restx import Api, Resource\n",
    "import joblib\n",
    "from flask_cors import CORS\n",
    "\n",
    "\n",
    "app = Flask(__name__)\n",
    "CORS(app)\n",
    "api = Api(app)\n",
    "\n",
    "parser = api.parser()\n",
    "parser.add_argument('year', type=int, required=True, help='year', location='args')\n",
    "parser.add_argument('mileage', type=int, required=True, help='Mileage', location='args')\n",
    "parser.add_argument('State', type=int, required=True,\n",
    "                    help='Ingrese el numero correspondiente al estado o State:     FL    : 0,      OH    : 1,      TX    : 2,      CO    : 3,      ME    : 4,      WA    : 5,      CT    : 6,      CA    : 7,      LA    : 8,      NY    : 9,      PA    : 10,      SC    : 11,      ND    : 12,      NC    : 13,      GA    : 14,      AZ    : 15,      TN    : 16,      KY    : 17,      NJ    : 18,      UT    : 19,      IA    : 20,      AL    : 21,      NE    : 22,      IL    : 23,      OK    : 24,      MD    : 25,      NV    : 26,      WV    : 27,      MI    : 28,      VA    : 29,      WI    : 30,      MA    : 31,      OR    : 32,      IN    : 33,      NM    : 34,      MO    : 35,      HI    : 36,      KS    : 37,      AR    : 38,      MN    : 39,      MS    : 40,      MT    : 41,      AK    : 42,      VT    : 43,      SD    : 44,      NH    : 45,      DE    : 46,      ID    : 47,      RI    : 48,      WY    : 49,      DC    : 50',\n",
    "                    location='args')\n",
    "parser.add_argument('Make', type=int, required=True,\n",
    "                    help='Ingrese el numero correspondiente a la marca o make : Jeep    : 0,     Chevrolet    : 1,     BMW    : 2,     Cadillac    : 3,     Mercedes-Benz    : 4,     Toyota    : 5,     Buick    : 6,     Dodge    : 7,     Volkswagen    : 8,     GMC    : 9,     Ford    : 10,     Hyundai    : 11,     Mitsubishi    : 12,     Honda    : 13,     Nissan    : 14,     Mazda    : 15,     Volvo    : 16,     Kia    : 17,     Subaru    : 18,     Chrysler    : 19,     INFINITI    : 20,     Land    : 21,     Porsche    : 22,     Lexus    : 23,     MINI    : 24,     Lincoln    : 25,     Audi    : 26,     Ram    : 27,     Mercury    : 28,     Tesla    : 29,     FIAT    : 30,     Acura    : 31,     Scion    : 32,     Pontiac    : 33,     Jaguar    : 34,     Bentley    : 35,     Suzuki    : 36,     Freightliner    : 37',\n",
    "                    location='args')\n",
    "parser.add_argument('Model', type=int, required=True,\n",
    "                    help='Ingrese el numero correspondiente al modelo o model :  Wrangler: 0     Tahoe4WD: 1     X5AWD: 2     SRXLuxury: 3     3: 4     C-ClassC300: 5     CamryL: 6     TacomaPreRunner: 7     LaCrosse4dr: 8     ChargerSXT: 9     CamryLE: 10     Jetta: 11     AcadiaFWD: 12     EscapeSE: 13     SonataLimited: 14     Santa: 15     Outlander: 16     CruzeSedan: 17     Civic: 18     CorollaL: 19     350Z2dr: 20     EdgeSEL: 21     F-1502WD: 22     FocusSE: 23     PatriotSport: 24     Accord: 25     MustangGT: 26     FusionHybrid: 27     ColoradoCrew: 28     Wrangler4WD: 29     CR-VEX-L: 30     CTS: 31     CherokeeLimited: 32     Yukon: 33     Elantra: 34     New: 35     CorollaLE: 36     Canyon4WD: 37     Golf: 38     Sonata4dr: 39     Elantra4dr: 40     PatriotLatitude: 41     Mazda35dr: 42     Tacoma2WD: 43     Corolla4dr: 44     Silverado: 45     TerrainFWD: 46     EscapeFWD: 47     Grand: 48     RAV4FWD: 49     Liberty4WD: 50     FocusTitanium: 51     DurangoAWD: 52     S60T5: 53     CivicLX: 54     MuranoAWD: 55     ForteEX: 56     TraverseAWD: 57     CamaroConvertible: 58     Sportage2WD: 59     Pathfinder4WD: 60     Highlander4dr: 61     WRXSTI: 62     Ram: 63     F-150XLT: 64     SiennaXLE: 65     LaCrosseFWD: 66     RogueFWD: 67     CamaroCoupe: 68     JourneySXT: 69     AccordEX-L: 70     Escape4WD: 71     OptimaEX: 72     FusionSE: 73     5: 74     F-150SuperCrew: 75     200Limited: 76     Malibu: 77     CompassSport: 78     G37: 79     CanyonCrew: 80     Malibu1LT: 81     MustangPremium: 82     MustangBase: 83     Sierra: 84     FlexLimited: 85     Tahoe2WD: 86     Transit: 87     Outback2.5i: 88     TucsonLimited: 89     Rover: 90     CayenneAWD: 91     MalibuLT: 92     TucsonFWD: 93     F-150FX2: 94     Camaro2dr: 95     Colorado4WD: 96     SonataSE: 97     ESES: 98     EnclavePremium: 99     CR-VEX: 100     F-150STX: 101     Impreza: 102     EquinoxFWD: 103     Cooper: 104     Super: 105     Passat4dr: 106     911: 107     CivicEX: 108     CamrySE: 109     Highlander4WD: 110     Corvette2dr: 111     200S: 112     PilotLX: 113     SorentoEX: 114     RioLX: 115     ExplorerXLT: 116     CorvetteCoupe: 117     EnclaveLeather: 118     Avalanche4WD: 119     TacomaBase: 120     Versa5dr: 121     MKXFWD: 122     SL-ClassSL500: 123     VeracruzFWD: 124     CorollaS: 125     PriusTwo: 126     CR-V2WD: 127     Lucerne4dr: 128     4Runner4dr: 129     PilotTouring: 130     CR-VLX: 131     CompassLatitude: 132     Altima4dr: 133     OptimaLX: 134     Focus5dr: 135     Charger4dr: 136     AcadiaAWD: 137     JourneyFWD: 138     7: 139     RX: 140     MalibuLS: 141     LSLS: 142     SportageLX: 143     Yukon4WD: 144     SorentoLX: 145     TiguanSEL: 146     Camry4dr: 147     F-1504WD: 148     PriusBase: 149     AccordLX: 150     Q7quattro: 151     ExplorerLimited: 152     4RunnerSR5: 153     OdysseyEX-L: 154     C-ClassC: 155     CX-9FWD: 156     JourneyAWD: 157     Sorento2WD: 158     F-250Lariat: 159     Prius: 160     TahoeLT: 161     25004WD: 162     Escalade4dr: 163     GTI4dr: 164     4RunnerRWD: 165     FX35AWD: 166     XC90T6: 167     Taurus4dr: 168     AvalonXLE: 169     300300S: 170     G35: 171     F-150Platinum: 172     TerrainAWD: 173     GXGX: 174     MKXAWD: 175     Town: 176     CamryXLE: 177     VeracruzAWD: 178     FusionS: 179     Challenger2dr: 180     Tundra: 181     Navigator4WD: 182     Legacy3.6R: 183     GS: 184     E-ClassE350: 185     Suburban2WD: 186     A44dr: 187     RegalTurbo: 188     Outback3.6R: 189     4Runner4WD: 190     Legacy2.5i: 191     1: 192     Yukon2WD: 193     Explorer: 194     PilotEX-L: 195     200LX: 196     M-ClassML350: 197     RAV4XLE: 198     WranglerSport: 199     Model: 200     FJ: 201     Titan: 202     Titan4WD: 203     FlexSEL: 204     OdysseyTouring: 205     SorentoSX: 206     RAV4Base: 207     OdysseyEX: 208     Explorer4WD: 209     Mustang2dr: 210     EdgeLimited: 211     FusionSEL: 212     Yukon4dr: 213     Touareg4dr: 214     Matrix5dr: 215     CTCT: 216     CherokeeSport: 217     6: 218     Maxima4dr: 219     Frontier4WD: 220     PriusThree: 221     F-350XL: 222     500Pop: 223     RDXAWD: 224     Tacoma4WD: 225     Optima4dr: 226     Q5quattro: 227     X3xDrive28i: 228     RDXFWD: 229     X5xDrive35i: 230     Malibu4dr: 231     ExpeditionXLT: 232     Ranger2WD: 233     Patriot4WD: 234     Quest4dr: 235     TaurusSE: 236     PathfinderS: 237     Murano2WD: 238     LS: 239     SiennaLimited: 240     ES: 241     SiennaLE: 242     F-150Lariat: 243     Titan2WD: 244     Durango2WD: 245     Tahoe4dr: 246     Focus4dr: 247     YarisBase: 248     TaurusLimited: 249     RAV44WD: 250     C-Class4dr: 251     Soul+: 252     TundraBase: 253     Expedition: 254     ImpalaLT: 255     SedonaLX: 256     Sequoia4WD: 257     ElantraLimited: 258     15002WD: 259     Suburban4WD: 260     FiestaSE: 261     15004WD: 262     TundraSR5: 263     Camry: 264     RAV4Limited: 265     RangerSuperCab: 266     MDXAWD: 267     RAV4LE: 268     ChallengerR/T: 269     FlexSE: 270     ForteLX: 271     TraverseFWD: 272     LibertySport: 273     ISIS: 274     Impala4dr: 275     Tundra4WD: 276     F-250XLT: 277     RXRX: 278     Armada2WD: 279     Frontier: 280     WranglerRubicon: 281     EquinoxAWD: 282     PilotEX: 283     TiguanS: 284     EscaladeAWD: 285     DTS4dr: 286     Pilot2WD: 287     Express: 288     PacificaLimited: 289     CanyonExtended: 290     MX5: 291     EscapeS: 292     IS: 293     C-ClassC350: 294     Compass4WD: 295     SportageEX: 296     Legacy: 297     E-ClassE: 298     Dakota4WD: 299     300300C: 300     Forte: 301     SportageAWD: 302     TaurusSEL: 303     Xterra4WD: 304     GSGS: 305     Explorer4dr: 306     F-150XL: 307     SportageSX: 308     xB5dr: 309     TundraLimited: 310     CruzeLT: 311     Wrangler2dr: 312     HighlanderFWD: 313     Sprinter: 314     Highlander: 315     Prius5dr: 316     CX-9Grand: 317     CTS4dr: 318     Econoline: 319     AccordEX: 320     RAV4Sport: 321     35004WD: 322     ChargerSE: 323     OdysseyLX: 324     TucsonAWD: 325     CX-7FWD: 326     AccordLX-S: 327     Navigator4dr: 328     EscapeXLT: 329     TiguanSE: 330     Cayman2dr: 331     TaurusSHO: 332     F-150FX4: 333     Ranger4WD: 334     OptimaSX: 335     SequoiaSR5: 336     G64dr: 337     HighlanderLimited: 338     ExplorerFWD: 339     F-350King: 340     PriusFive: 341     Yaris4dr: 342     PatriotLimited: 343     Lancer4dr: 344     HighlanderSE: 345     CompassLimited: 346     S2000Manual: 347     F-250King: 348     Forester2.5X: 349     Fusion4dr: 350     Frontier2WD: 351     FocusST: 352     Pathfinder2WD: 353     Sentra4dr: 354     XF4dr: 355     F-250XL: 356     PacificaTouring: 357     MustangDeluxe: 358     Caliber4dr: 359     GTI2dr: 360     Mazda34dr: 361     FocusS: 362     Sienna5dr: 363     CR-V4WD: 364     CX-9Touring: 365     Mazda64dr: 366     Forester4dr: 367     1500Tradesman: 368     MDX4WD: 369     Escalade: 370     TL4dr: 371     CX-9AWD: 372     Canyon2WD: 373     A64dr: 374     A8: 375     Armada4WD: 376     Impreza2.0i: 377     GX: 378     QX564WD: 379     CC4dr: 380     MKZ4dr: 381     Yaris: 382     FitSport: 383     Regal4dr: 384     Tundra2WD: 385     X3AWD: 386     SonicSedan: 387     Cobalt4dr: 388     RidgelineRTL: 389     CivicSi: 390     AvalonLimited: 391     XC90FWD: 392     Outlander2WD: 393     RAV44dr: 394     ColoradoExtended: 395     ExpeditionLimited: 396     3004dr: 397     200Touring: 398     SC: 399     X1xDrive28i: 400     SonicHatch: 401     GLI4dr: 402     PilotSE: 403     Savana: 404     RegalPremium: 405     CR-VSE: 406     RegalGS: 407     XC90AWD: 408     EdgeSport: 409     PriusFour: 410     SiennaSE: 411     1500Laramie: 412     300Base: 413     Pilot4WD: 414     A34dr: 415     HighlanderBase: 416     Expedition4WD: 417     STS4dr: 418     SoulBase: 419     Xterra2WD: 420     CT: 421     tC2dr: 422     Tiguan2WD: 423     CR-ZEX: 424     MustangShelby: 425     C702dr: 426     WranglerX: 427     WranglerSahara: 428     DurangoSXT: 429     Sequoia4dr: 430     Outlander4WD: 431     Expedition2WD: 432     Navigator: 433     9112dr: 434     Vibe4dr: 435     F-150King: 436     300Limited: 437     XC60T6: 438     CivicEX-L: 439     Avalanche2WD: 440     F-350XLT: 441     ExplorerBase: 442     MuranoS: 443     LXLX: 444     EdgeSE: 445     ImpalaLS: 446     Land: 447     E-ClassE320: 448     Milan4dr: 449     Boxster2dr: 450     RAV4: 451     Eos2dr: 452     SedonaEX: 453     xD5dr: 454     Colorado2WD: 455     Monte: 456     Escape4dr: 457     LX: 458     FiestaS: 459     F-350Lariat: 460     Galant4dr: 461     TT2dr: 462     Xterra4dr: 463     SequoiaLimited: 464     4RunnerLimited: 465     Genesis: 466     Suburban4dr: 467     EnclaveConvenience: 468     LaCrosseAWD: 469     Versa4dr: 470     Cobalt2dr: 471     XC60FWD: 472     F-150Limited: 473     Dakota2WD: 474     S44dr: 475     4Runner2WD: 476     Sedona4dr: 477     RidgelineSport: 478     TSXAutomatic: 479     ImprezaSport: 480     SLK-ClassSLK350: 481     Accent4dr: 482     CorvetteConvertible: 483     Avalon4dr: 484     Passat: 485     25002WD: 486     ExplorerEddie: 487     LibertyLimited: 488     CTS-V: 489     4RunnerTrail: 490     Eclipse3dr: 491     Azera4dr: 492     TahoeLS: 493     Continental: 494     XJ4dr: 495     ForteSX: 496     SequoiaPlatinum: 497     FocusSEL: 498     Durango4dr: 499     CamryBase: 500     XC704dr: 501     S804dr: 502     Element4WD: 503     YarisLE: 504     WRXBase: 505     TLAutomatic: 506     AvalonTouring: 507     XK2dr: 508     PT: 509     PathfinderSE: 510     300Touring: 511     Navigator2WD: 512     XC60AWD: 513     EscapeLimited: 514     WRXLimited: 515     AccordSE: 516     QX562WD: 517     Escalade2WD: 518     EscapeLImited: 519     PriusOne: 520     Element2WD: 521     Excursion137\\: 522     WRXPremium: 523     RX-84dr: 524',\n",
    "                    location='args')\n",
    "\n",
    "\n",
    "\n",
    "def process_request(year, mileage, State, Make, Model):\n",
    "    modelo_regresion = joblib.load('regresion.pkl')\n",
    "    features = [[year, mileage, State, Make, Model]]\n",
    "    prediccion = modelo_regresion.predict(features)\n",
    "    prediccion_json = prediccion.tolist()\n",
    "    return prediccion_json\n",
    "\n",
    "\n",
    "# Clase para la API\n",
    "class CarInfo(Resource):\n",
    "    @api.expect(parser)\n",
    "    def get(self):\n",
    "        args = parser.parse_args()\n",
    "        year = args['year']\n",
    "        mileage = args['mileage']\n",
    "        State = args['State']\n",
    "        Make = args['Make']\n",
    "        Model = args['Model']\n",
    "        result = process_request(year, mileage, State, Make, Model)\n",
    "        return {\n",
    "            'description': f\"el precio es : {result} year: {year}, Mileage: {mileage}, State: {State}, Make: {Make}, Model: {Model}\",\n",
    "            'result': result}\n",
    "\n",
    "\n",
    "# Agregar la clase de la API al endpoint\n",
    "api.add_resource(CarInfo, '/car_info')\n",
    "\n",
    "# Ejecutar la aplicación\n",
    "if __name__ == '__main__':\n",
    "    app.run(debug=True, use_reloader=False, host='0.0.0.0', port=5000)\n"
   ]
  },
  {
   "cell_type": "markdown",
   "metadata": {
    "collapsed": false,
    "jupyter": {
     "outputs_hidden": false
    }
   },
   "source": [
    "# Concluciones \n",
    "Al comparar los modelos de Random Forest, XGBoost y Bagging podemos observar que el modelo que tiene un mejor desempeño con respecto a los demas modelos es el de random forest el cual presenta un mejor desempeño y un mayor poder predictivo.\n"
   ]
  },
  {
   "cell_type": "code",
   "execution_count": null,
   "metadata": {
    "collapsed": false,
    "jupyter": {
     "outputs_hidden": false
    }
   },
   "outputs": [],
   "source": []
  }
 ],
 "metadata": {
  "kernelspec": {
   "display_name": "Python 3 (ipykernel)",
   "language": "python",
   "name": "python3"
  },
  "language_info": {
   "codemirror_mode": {
    "name": "ipython",
    "version": 3
   },
   "file_extension": ".py",
   "mimetype": "text/x-python",
   "name": "python",
   "nbconvert_exporter": "python",
   "pygments_lexer": "ipython3",
   "version": "3.12.3"
  }
 },
 "nbformat": 4,
 "nbformat_minor": 4
}
